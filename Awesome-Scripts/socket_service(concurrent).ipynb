{
 "cells": [
  {
   "cell_type": "code",
   "execution_count": null,
   "metadata": {
    "collapsed": false
   },
   "outputs": [
    {
     "name": "stdout",
     "output_type": "stream",
     "text": [
      "正在等待Client输入内容......\n",
      "12\n",
      "Service请输入要发送的内容>>> 12\n",
      "正在等待Client输入内容......\n"
     ]
    }
   ],
   "source": [
    "#!/usr/bin/env python\n",
    "# _*_ coding:utf-8 _*_\n",
    "import socketserver\n",
    "class MyServer(socketserver.BaseRequestHandler):\n",
    "    def handle(self):\n",
    "        conn = self.request\n",
    "        conn.sendall(bytes(\"你好，欢迎登陆！\", encoding=\"utf-8\"))\n",
    "        while True:\n",
    "            # 输出等待客户端发送内容\n",
    "            print(\"正在等待Client输入内容......\")\n",
    "            # 接收客户端发送过来的内容\n",
    "            ret_bytes = conn.recv(1024)\n",
    "            # 转换成字符串类型\n",
    "            ret_str = str(ret_bytes, encoding=\"utf-8\")\n",
    "            # 输出用户发送过来的内容\n",
    "            print(ret_str)\n",
    "            # 如果用户输入的是q\n",
    "            if ret_str == \"q\":\n",
    "                # 则退出循环，等待下个用户输入\n",
    "                break\n",
    "            # 给客户端发送内容\n",
    "            inp = input(\"Service请输入要发送的内容>>> \")\n",
    "            conn.sendall(bytes(inp, encoding=\"utf-8\"))\n",
    "if __name__ == \"__main__\":\n",
    "    server = socketserver.ThreadingTCPServer(('127.0.0.1', 999, ), MyServer)\n",
    "    server.serve_forever()"
   ]
  },
  {
   "cell_type": "code",
   "execution_count": null,
   "metadata": {
    "collapsed": true
   },
   "outputs": [],
   "source": []
  }
 ],
 "metadata": {
  "anaconda-cloud": {},
  "kernelspec": {
   "display_name": "Python [Root]",
   "language": "python",
   "name": "Python [Root]"
  },
  "language_info": {
   "codemirror_mode": {
    "name": "ipython",
    "version": 3
   },
   "file_extension": ".py",
   "mimetype": "text/x-python",
   "name": "python",
   "nbconvert_exporter": "python",
   "pygments_lexer": "ipython3",
   "version": "3.5.2"
  },
  "latex_envs": {
   "LaTeX_envs_menu_present": true,
   "bibliofile": "biblio.bib",
   "cite_by": "apalike",
   "current_citInitial": 1,
   "eqLabelWithNumbers": true,
   "eqNumInitial": 1,
   "labels_anchors": false,
   "latex_user_defs": false,
   "report_style_numbering": false,
   "user_envs_cfg": false
  }
 },
 "nbformat": 4,
 "nbformat_minor": 0
}
