{
 "cells": [
  {
   "cell_type": "code",
   "execution_count": null,
   "metadata": {
    "collapsed": true
   },
   "outputs": [],
   "source": [
    "# 线程，直接调用\n",
    "import threading\n",
    "import time\n",
    "def Princ(String):\n",
    "    print('task', String)\n",
    "    time.sleep(5)\n",
    "# target=目标函数， args=传入的参数\n",
    "t1 = threading.Thread(target=Princ, args=('t1',))\n",
    "t1.start()\n",
    "t2 = threading.Thread(target=Princ, args=('t1',))\n",
    "t2.start()\n",
    "t3 = threading.Thread(target=Princ, args=('t1',))\n",
    "t3.start()"
   ]
  },
  {
   "cell_type": "code",
   "execution_count": null,
   "metadata": {
    "collapsed": true
   },
   "outputs": [],
   "source": [
    "# 线程，类调用\n",
    "import threading\n",
    "import time\n",
    "class MyThreading(threading.Thread):\n",
    "    def __init__(self, conn):\n",
    "        super(MyThreading, self).__init__()\n",
    "        self.conn = conn\n",
    "    def run(self):\n",
    "        print('run task', self.conn)\n",
    "        time.sleep(5)\n",
    "t1 = MyThreading('t1')\n",
    "t2 = MyThreading('t2')\n",
    "t1.start()\n",
    "t2.start()"
   ]
  },
  {
   "cell_type": "code",
   "execution_count": null,
   "metadata": {
    "collapsed": true
   },
   "outputs": [],
   "source": [
    "# 线程，子线程并行执行\n",
    "import threading\n",
    "import time\n",
    "def Princ(String):\n",
    "    print('task', String)\n",
    "    time.sleep(2)\n",
    "# 执行子线程的时间\n",
    "start_time = time.time()\n",
    "# 存放线程的实例\n",
    "t_objs = []\n",
    "for i in range(50):\n",
    "    t = threading.Thread(target=Princ, args=('t-%s' % (i),))\n",
    "    t.start()\n",
    "    # 为了不让后面的子线程阻塞，把当前的子线程放入到一个列表中\n",
    "    t_objs.append(t)\n",
    "# 循环所有子线程实例，等待所有子线程执行完毕\n",
    "for t in t_objs:\n",
    "    t.join()\n",
    "# 当前时间减去开始时间就等于执行的过程中需要的时间\n",
    "print(time.time() - start_time)"
   ]
  },
  {
   "cell_type": "code",
   "execution_count": null,
   "metadata": {
    "collapsed": true
   },
   "outputs": [],
   "source": [
    "#递归锁\n",
    "import threading\n",
    "def run1():\n",
    "    print(\"grab the first part data\")\n",
    "    lock.acquire()\n",
    "    global num\n",
    "    num += 1\n",
    "    lock.release()\n",
    "    return num\n",
    "def run2():\n",
    "    print(\"grab the second part data\")\n",
    "    lock.acquire()\n",
    "    global num2\n",
    "    num2 += 1\n",
    "    lock.release()\n",
    "    return num2\n",
    "def run3():\n",
    "    lock.acquire()\n",
    "    res = run1()\n",
    "    print('--------between run1 and run2-----')\n",
    "    res2 = run2()\n",
    "    lock.release()\n",
    "    print(res, res2)\n",
    "t_objs = []\n",
    "if __name__ == '__main__':\n",
    "    num, num2 = 0, 0\n",
    "    lock = threading.RLock()  # RLock()类似创建了一个字典，每次退出的时候找到字典的值进行退出\n",
    "    # lock = threading.Lock()  # Lock()会阻塞在这儿\n",
    "    for i in range(10):\n",
    "        t = threading.Thread(target=run3)\n",
    "        t.start()\n",
    "        t_objs.append(t)\n",
    "for t in t_objs:\n",
    "    t.join()\n",
    "print(num, num2)"
   ]
  },
  {
   "cell_type": "code",
   "execution_count": null,
   "metadata": {
    "collapsed": true
   },
   "outputs": [],
   "source": [
    "# 信号量(Semaphore)，互斥锁同时只允许一个线程更改数据，而Semaphore是同时允许一定数量的线程更改数据\n",
    "import threading\n",
    "import time\n",
    "def run(n):\n",
    "    semaphore.acquire()  # 获取信号，信号可以有多把锁\n",
    "    time.sleep(1)  # 等待一秒钟\n",
    "    print(\"run the thread: %s\\n\" % n)\n",
    "    semaphore.release()  # 释放信号\n",
    "t_objs = []\n",
    "if __name__ == '__main__':\n",
    "    semaphore = threading.BoundedSemaphore(5)  # 声明一个信号量，最多允许5个线程同时运行\n",
    "    for i in range(20):  # 运行20个线程\n",
    "        t = threading.Thread(target=run, args=(i,))  # 创建线程\n",
    "        t.start()  # 启动线程\n",
    "        t_objs.append(t)\n",
    "for t in t_objs:\n",
    "    t.join()\n",
    "print('>>>>>>>>>>>>>')"
   ]
  },
  {
   "cell_type": "code",
   "execution_count": null,
   "metadata": {
    "collapsed": true
   },
   "outputs": [],
   "source": [
    "# 进程内启动线程\n",
    "from multiprocessing import Process\n",
    "import threading\n",
    "def Thread(String):\n",
    "    print(String)\n",
    "def Proces(String):\n",
    "    print('hello', String)\n",
    "    t = threading.Thread(target=Thread, args=('Thread %s' % (String),))  # 创建一个线程\n",
    "    t.start()  # 启动它\n",
    "if __name__ == '__main__':\n",
    "    p = Process(target=Proces, args=('World',))  # 创建一个进程\n",
    "    p.start()  # 启动\n",
    "    p.join()  # 等待进程执行完毕"
   ]
  },
  {
   "cell_type": "code",
   "execution_count": null,
   "metadata": {
    "collapsed": true
   },
   "outputs": [],
   "source": [
    "# 启动多进程\n",
    "from multiprocessing import Process\n",
    "import time\n",
    "def f(name):\n",
    "    time.sleep(0.2)\n",
    "    print('hello', name)\n",
    "if __name__ == '__main__':\n",
    "    for n in range(10):  # 创建一个进程\n",
    "        p = Process(target=f, args=('bob %s' % (n),))\n",
    "        # 启动\n",
    "        p.start()\n",
    "        # 等待进程执行完毕"
   ]
  },
  {
   "cell_type": "code",
   "execution_count": null,
   "metadata": {
    "collapsed": true
   },
   "outputs": [],
   "source": [
    "#进程Queue\n",
    "# _*_ coding:utf-8 _*_\n",
    "from multiprocessing import Process, Queue\n",
    "def ChildProcess(Q):\n",
    "    Q.put(['Hello', None, 'World'])  # 在Queue里面上传一个列表\n",
    "if __name__ == '__main__':\n",
    "    q = Queue()  # 创建一个Queue\n",
    "    p = Process(target=ChildProcess, args=(q,))  # 创建一个子进程，并把Queue传给子进程,相当于克隆了一份Queue\n",
    "    p.start()  # 启动子进程\n",
    "    print(q.get())  # 获取q中的数据\n",
    "    p.join()"
   ]
  },
  {
   "cell_type": "code",
   "execution_count": null,
   "metadata": {
    "collapsed": true
   },
   "outputs": [],
   "source": [
    "#数据共享manager\n",
    "# _*_ coding:utf-8 _*_\n",
    "from multiprocessing import Process, Manager\n",
    "import os\n",
    "\n",
    "def ChildProcess(Dict, List):\n",
    "    Dict['k1'] = 'v1'\n",
    "    Dict['k2'] = 'v2'\n",
    "    List.append(os.getpid())  # 获取子进程的PID\n",
    "    print(List)  # 输出列表中的内容\n",
    "    \n",
    "if __name__ == '__main__':\n",
    "    manager = Manager()  # 生成Manager对象\n",
    "    Dict = manager.dict()  # 生成一个可以在多个进程之间传递共享的字典\n",
    "    List = manager.list()  # 生成一个字典\n",
    "    ProcessList = []  # 创建一个空列表，存放进程的对象，等待子进程执行用于\n",
    "    for i in range(10):  # 生成是个子进程\n",
    "        p = Process(target=ChildProcess, args=(Dict, List))  # 创建一个子进程\n",
    "        p.start()  # 启动\n",
    "        ProcessList.append(p)  # 把子进程添加到p_list列表中\n",
    "    for res in ProcessList:  # 循环所有的子进程\n",
    "        res.join()  # 等待执行完毕\n",
    "    print('\\n')\n",
    "    print(Dict)\n",
    "    print(List)"
   ]
  },
  {
   "cell_type": "code",
   "execution_count": null,
   "metadata": {
    "collapsed": true
   },
   "outputs": [],
   "source": [
    "#管道pipe\n",
    "# _*_ coding:utf-8 _*_\n",
    "from multiprocessing import Process, Pipe\n",
    "def ChildProcess(conn):\n",
    "    conn.send(['Hello', None, 'World'])  # 写一段数据\n",
    "    conn.close()  # 关闭\n",
    "if __name__ == '__main__':\n",
    "    parent_conn, child_conn = Pipe()  # 生成一个管道实例，parent_conn, child_conn管道的两头\n",
    "    p = Process(target=ChildProcess, args=(child_conn,))\n",
    "    p.start()\n",
    "    print(parent_conn.recv())  # 收取消息\n",
    "    p.join()"
   ]
  },
  {
   "cell_type": "code",
   "execution_count": null,
   "metadata": {
    "collapsed": true
   },
   "outputs": [],
   "source": [
    "# 线程池\n",
    "#!/usr/bin/env python\n",
    "# -*- coding:utf-8 -*-\n",
    "import threading\n",
    "import queue\n",
    "import time\n",
    "class MyThread:\n",
    "    def __init__(self,max_num=10):\n",
    "        self.queue = queue.Queue()\n",
    "        for n in range(max_num):\n",
    "            self.queue.put(threading.Thread)\n",
    "    def get_thread(self):\n",
    "        return self.queue.get()\n",
    "    def put_thread(self):\n",
    "        self.queue.put(threading.Thread)\n",
    "pool = MyThread(5)\n",
    "def RunThread(arg,pool):\n",
    "    print(arg)\n",
    "    time.sleep(2)\n",
    "    pool.put_thread()\n",
    "for n in range(30):\n",
    "    thread = pool.get_thread()\n",
    "    t = thread(target=RunThread, args=(n,pool,))\n",
    "    t.start()"
   ]
  }
 ],
 "metadata": {
  "anaconda-cloud": {},
  "kernelspec": {
   "display_name": "Python [Root]",
   "language": "python",
   "name": "Python [Root]"
  },
  "language_info": {
   "codemirror_mode": {
    "name": "ipython",
    "version": 3
   },
   "file_extension": ".py",
   "mimetype": "text/x-python",
   "name": "python",
   "nbconvert_exporter": "python",
   "pygments_lexer": "ipython3",
   "version": "3.5.2"
  },
  "latex_envs": {
   "LaTeX_envs_menu_present": true,
   "bibliofile": "biblio.bib",
   "cite_by": "apalike",
   "current_citInitial": 1,
   "eqLabelWithNumbers": true,
   "eqNumInitial": 1,
   "labels_anchors": false,
   "latex_user_defs": false,
   "report_style_numbering": false,
   "user_envs_cfg": false
  }
 },
 "nbformat": 4,
 "nbformat_minor": 0
}
