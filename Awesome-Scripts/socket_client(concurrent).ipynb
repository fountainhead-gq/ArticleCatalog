{
 "cells": [
  {
   "cell_type": "code",
   "execution_count": null,
   "metadata": {
    "collapsed": false
   },
   "outputs": [
    {
     "name": "stdout",
     "output_type": "stream",
     "text": [
      "你好，欢迎登陆！\n",
      "Client请输入要发送的内容>>> 12\n",
      "正在等待Server输入内容......\n",
      "12\n"
     ]
    }
   ],
   "source": [
    "#!/usr/bin/env python\n",
    "# _*_ coding:utf-8 _*_\n",
    "import socket\n",
    "# 创建一个socket对象\n",
    "obj = socket.socket()\n",
    "# 制定服务端的IP地址和端口\n",
    "obj.connect(('127.0.0.1', 999, ))\n",
    "# 阻塞，等待服务端发送内容，接受服务端发送过来的内容，最大接受1024字节\n",
    "ret_bytes = obj.recv(1024)\n",
    "# 因为服务端发送过来的是字节，所以我们需要把字节转换为字符串进行输出\n",
    "ret_str = str(ret_bytes, encoding=\"utf-8\")\n",
    "# 输出内容\n",
    "print(ret_str)\n",
    "while True:\n",
    "    # 当进入连接的时候，提示让用户输入内容\n",
    "    inp = input(\"Client请输入要发送的内容>>> \")\n",
    "    # 如果输出q则退出\n",
    "    if inp == \"q\":\n",
    "        # 把q发送给服务端\n",
    "        obj.sendall(bytes(inp, encoding=\"utf-8\"))\n",
    "        # 退出当前while\n",
    "        break\n",
    "    else:\n",
    "        # 否则就把用户输入的内容发送给用户\n",
    "        obj.sendall(bytes(inp, encoding=\"utf-8\"))\n",
    "        # 等待服务端回答\n",
    "        print(\"正在等待Server输入内容......\")\n",
    "        # 获取服务端发送过来的结果\n",
    "        ret = str(obj.recv(1024), encoding=\"utf-8\")\n",
    "        # 输出结果\n",
    "        print(ret)\n",
    "# 连接完成之后关闭链接\n",
    "obj.close()"
   ]
  },
  {
   "cell_type": "code",
   "execution_count": null,
   "metadata": {
    "collapsed": true
   },
   "outputs": [],
   "source": []
  }
 ],
 "metadata": {
  "anaconda-cloud": {},
  "kernelspec": {
   "display_name": "Python [Root]",
   "language": "python",
   "name": "Python [Root]"
  },
  "language_info": {
   "codemirror_mode": {
    "name": "ipython",
    "version": 3
   },
   "file_extension": ".py",
   "mimetype": "text/x-python",
   "name": "python",
   "nbconvert_exporter": "python",
   "pygments_lexer": "ipython3",
   "version": "3.5.2"
  },
  "latex_envs": {
   "LaTeX_envs_menu_present": true,
   "bibliofile": "biblio.bib",
   "cite_by": "apalike",
   "current_citInitial": 1,
   "eqLabelWithNumbers": true,
   "eqNumInitial": 1,
   "labels_anchors": false,
   "latex_user_defs": false,
   "report_style_numbering": false,
   "user_envs_cfg": false
  }
 },
 "nbformat": 4,
 "nbformat_minor": 0
}
